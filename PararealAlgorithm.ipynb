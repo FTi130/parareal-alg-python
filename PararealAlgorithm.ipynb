{
  "nbformat": 4,
  "nbformat_minor": 0,
  "metadata": {
    "colab": {
      "provenance": [],
      "gpuType": "T4",
      "authorship_tag": "ABX9TyMfYDcjs0EO+INGtjtiy920",
      "include_colab_link": true
    },
    "kernelspec": {
      "name": "python3",
      "display_name": "Python 3"
    },
    "language_info": {
      "name": "python"
    },
    "accelerator": "GPU"
  },
  "cells": [
    {
      "cell_type": "markdown",
      "metadata": {
        "id": "view-in-github",
        "colab_type": "text"
      },
      "source": [
        "<a href=\"https://colab.research.google.com/github/FTi130/parareal-alg-python/blob/master/PararealAlgorithm.ipynb\" target=\"_parent\"><img src=\"https://colab.research.google.com/assets/colab-badge.svg\" alt=\"Open In Colab\"/></a>"
      ]
    },
    {
      "cell_type": "code",
      "execution_count": null,
      "metadata": {
        "id": "c906U4fKwrFg"
      },
      "outputs": [],
      "source": [
        "import numpy as np"
      ]
    },
    {
      "cell_type": "code",
      "source": [
        "try:\n",
        "    import cupy as cp\n",
        "except ImportError:\n",
        "    # Install the appropriate CuPy version for the CUDA version in Colab\n",
        "    !pip install cupy-cuda11x  # Use 'cupy-cuda12x' if CUDA version is 12.x in Colab\n",
        "    import cupy as cp"
      ],
      "metadata": {
        "collapsed": true,
        "id": "P9tbs0q-wt81"
      },
      "execution_count": null,
      "outputs": []
    },
    {
      "cell_type": "code",
      "source": [],
      "metadata": {
        "id": "QyGIyd35wt_O"
      },
      "execution_count": null,
      "outputs": []
    },
    {
      "cell_type": "code",
      "source": [
        "# Define time parameters and differential equation\n",
        "\n",
        "T = 1.0         # Final time\n",
        "N = 10          # Number of time intervals\n",
        "dt = T / N      # Time step\n",
        "\n",
        "# Differential equation: dx/dt = -kx (simple decay equation)\n",
        "k = 1.0         # Decay constant"
      ],
      "metadata": {
        "id": "Gtw7PXmuwuB2"
      },
      "execution_count": null,
      "outputs": []
    },
    {
      "cell_type": "code",
      "source": [
        "def exact_solution(t, x0):\n",
        "    \"\"\"\n",
        "    Analytical solution for comparison, x(t) = x0 * exp(-k * t)\n",
        "    \"\"\"\n",
        "    return x0 * np.exp(-k * t)"
      ],
      "metadata": {
        "id": "64Qim8Urx6Q4"
      },
      "execution_count": null,
      "outputs": []
    },
    {
      "cell_type": "code",
      "source": [
        "# Coarse and Fine Solvers\n",
        "def coarse_solver(x0, dt):\n",
        "    \"\"\"Coarse solver: a simple, less accurate Euler method\"\"\"\n",
        "    return x0 - k * x0 * dt  # Coarse approximation (Euler's method)"
      ],
      "metadata": {
        "id": "r4bIkMgHyuMI"
      },
      "execution_count": null,
      "outputs": []
    },
    {
      "cell_type": "code",
      "source": [
        "def fine_solver(x0, dt):\n",
        "    \"\"\"\n",
        "    Fine solver: a more accurate method, e.g., using a RK2 (Midpoint) method on GPU.\n",
        "    \"\"\"\n",
        "    x = cp.array(x0)  # Transfer initial condition to GPU\n",
        "    k_cp = cp.array(k)\n",
        "    dt_cp = cp.array(dt)\n",
        "\n",
        "    # Midpoint method (Runge-Kutta2)\n",
        "    k1 = -k_cp * x\n",
        "    k2 = -k_cp * (x + 0.5 * dt_cp * k1)\n",
        "    x_new = x + dt_cp * k2\n",
        "\n",
        "    return cp.asnumpy(x_new)  # Transfer result back to CPU"
      ],
      "metadata": {
        "id": "C8qRHzhMx6Tt"
      },
      "execution_count": null,
      "outputs": []
    },
    {
      "cell_type": "code",
      "source": [
        "# Parareal Algorithm itself\n",
        "def parareal_algorithm(x0, T, N, max_iter=10, tol=1e-5):\n",
        "    dt = T / N\n",
        "    times = np.linspace(0, T, N + 1)\n",
        "\n",
        "    # Step 1: Initialize coarse solution\n",
        "    X_coarse = np.zeros(N + 1)  # Solution storage\n",
        "    X_coarse[0] = x0\n",
        "    for n in range(N):\n",
        "        X_coarse[n + 1] = coarse_solver(X_coarse[n], dt)\n",
        "\n",
        "    # Step 2: Parareal iterations\n",
        "    for iteration in range(max_iter):\n",
        "        print(f\"Iteration {iteration+1}\")\n",
        "\n",
        "        X_fine = np.zeros(N + 1)  # Fine solution at each iteration\n",
        "        X_fine[0] = x0\n",
        "\n",
        "        # Run fine solver in parallel on each time subinterval\n",
        "        corrections = np.zeros(N + 1)\n",
        "        for n in range(N):\n",
        "            # Predict next fine solution (fine solver correction)\n",
        "            X_fine[n + 1] = fine_solver(X_coarse[n], dt)\n",
        "\n",
        "            # Update using coarse correction\n",
        "            corrections[n + 1] = X_coarse[n + 1] + (X_fine[n + 1] - coarse_solver(X_coarse[n], dt))\n",
        "\n",
        "        # Update coarse solution\n",
        "        X_coarse = corrections\n",
        "\n",
        "        # Check convergence\n",
        "        if np.linalg.norm(X_fine - X_coarse) < tol:\n",
        "            print(\"Converged!\")\n",
        "            break\n",
        "\n",
        "    return X_coarse, X_fine\n"
      ],
      "metadata": {
        "id": "q81qU0MUx6Wj"
      },
      "execution_count": null,
      "outputs": []
    },
    {
      "cell_type": "code",
      "source": [
        "# Initial condition\n",
        "x0 = 1.0"
      ],
      "metadata": {
        "id": "HI4TN6LFx6ZZ"
      },
      "execution_count": null,
      "outputs": []
    },
    {
      "cell_type": "code",
      "source": [
        "X_coarse, X_fine = parareal_algorithm(x0, T, N)"
      ],
      "metadata": {
        "colab": {
          "base_uri": "https://localhost:8080/"
        },
        "id": "6rnSSAJhx6cP",
        "outputId": "3011b87d-33f0-4dc5-e2f4-4b838e0fb497"
      },
      "execution_count": null,
      "outputs": [
        {
          "output_type": "stream",
          "name": "stdout",
          "text": [
            "Iteration 1\n",
            "Iteration 2\n",
            "Iteration 3\n",
            "Iteration 4\n",
            "Iteration 5\n",
            "Iteration 6\n",
            "Iteration 7\n",
            "Iteration 8\n",
            "Iteration 9\n",
            "Iteration 10\n"
          ]
        }
      ]
    },
    {
      "cell_type": "code",
      "source": [
        "# Comparison with exact solution\n",
        "exact_sol = exact_solution(np.linspace(0, T, N + 1), x0)\n",
        "\n",
        "print(\"\\nCoarse solution:\\n\", X_coarse)\n",
        "print(\"\\nFine solution:\\n\", X_fine)\n",
        "print(\"\\nExact solution:\\n\", exact_sol)"
      ],
      "metadata": {
        "colab": {
          "base_uri": "https://localhost:8080/"
        },
        "id": "bnkdODj-x6fM",
        "outputId": "69c08545-f48c-478e-8c8f-d7fbae913453"
      },
      "execution_count": null,
      "outputs": [
        {
          "output_type": "stream",
          "name": "stdout",
          "text": [
            "\n",
            "Coarse solution:\n",
            " [0.         0.905      0.855225   0.770517   0.6934748  0.62412739\n",
            " 0.56171465 0.50554319 0.45498887 0.40948998 0.36854098]\n",
            "\n",
            "Fine solution:\n",
            " [1.         0.         0.819025   0.7698835  0.69346847 0.62412735\n",
            " 0.56171465 0.50554319 0.45498887 0.40948998 0.36854098]\n",
            "\n",
            "Exact solution:\n",
            " [1.         0.90483742 0.81873075 0.74081822 0.67032005 0.60653066\n",
            " 0.54881164 0.4965853  0.44932896 0.40656966 0.36787944]\n"
          ]
        }
      ]
    },
    {
      "cell_type": "code",
      "source": [],
      "metadata": {
        "id": "JqHG4Pt4x6iK"
      },
      "execution_count": null,
      "outputs": []
    },
    {
      "cell_type": "code",
      "source": [],
      "metadata": {
        "id": "nxCP234Sx6lA"
      },
      "execution_count": null,
      "outputs": []
    },
    {
      "cell_type": "code",
      "source": [],
      "metadata": {
        "id": "x5rKy58-x6oZ"
      },
      "execution_count": null,
      "outputs": []
    },
    {
      "cell_type": "code",
      "source": [],
      "metadata": {
        "id": "xP4YihylwuFO"
      },
      "execution_count": null,
      "outputs": []
    }
  ]
}